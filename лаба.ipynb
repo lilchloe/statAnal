{
 "cells": [
  {
   "cell_type": "markdown",
   "id": "89b2f638",
   "metadata": {},
   "source": [
    "\n",
    "\n"
   ]
  },
  {
   "cell_type": "code",
   "execution_count": 173,
   "id": "7f6f1f2d",
   "metadata": {
    "scrolled": true
   },
   "outputs": [
    {
     "name": "stdout",
     "output_type": "stream",
     "text": [
      "0       118.67500\n",
      "1       121.99166\n",
      "2       124.75166\n",
      "3       126.89650\n",
      "4       128.01683\n",
      "          ...    \n",
      "97      970.22516\n",
      "98      975.62383\n",
      "99     1049.67916\n",
      "100    1144.36916\n",
      "101    1157.49894\n",
      "Length: 102, dtype: float64\n"
     ]
    }
   ],
   "source": [
    "import pandas as pd\n",
    "import numpy as np\n",
    "import math as math\n",
    "## s - ранжированный ряд  \n",
    "s = pd.Series([124.75166,\n",
    "118.675,\n",
    "121.99166,\n",
    "128.01683,\n",
    "126.8965,\n",
    "143.60483,\n",
    "152.6685,\n",
    "177.71166,\n",
    "201.33316,\n",
    "188.3985,\n",
    "198.79333,\n",
    "201.24116,\n",
    "248.32116,\n",
    "343.67975,\n",
    "339.795,\n",
    "415.93975,\n",
    "512.16999,\n",
    "580.11375,\n",
    "823.41525,\n",
    "904.585,\n",
    "1157.49894,\n",
    "1049.67916,\n",
    "1144.36916,\n",
    "845.85092,\n",
    "975.62383,\n",
    "897.30915,\n",
    "757.02366,\n",
    "733.23666,\n",
    "685.3675,\n",
    "780.93666,\n",
    "759.6362,\n",
    "774.26333,\n",
    "873.98,\n",
    "970.22516,\n",
    "902.035,\n",
    "873.27168,\n",
    "879.62999,\n",
    "885.16166,\n",
    "874.13266,\n",
    "876.24165,\n",
    "860.24269,\n",
    "852.3975,\n",
    "856.03366,\n",
    "815.79724,\n",
    "711.97109,\n",
    "671.9975,\n",
    "657.99749,\n",
    "641.37249,\n",
    "581.24,\n",
    "583.135,\n",
    "583.7825,\n",
    "568.275,\n",
    "666.3275,\n",
    "626.25,\n",
    "645.75,\n",
    "636.75668,\n",
    "630.77666,\n",
    "604.52831,\n",
    "570.33081,\n",
    "589.95497,\n",
    "504.21231,\n",
    "500.64066,\n",
    "455.99333,\n",
    "458.925,\n",
    "427.5385,\n",
    "425.68516,\n",
    "543.31749,\n",
    "511.76836,\n",
    "498.59166,\n",
    "472.48499,\n",
    "445.73085,\n",
    "459.42666,\n",
    "438.44883,\n",
    "446.35999,\n",
    "453.54333,\n",
    "439.51833,\n",
    "447.15166,\n",
    "458.23333,\n",
    "535.09,\n",
    "589.945,\n",
    "576.55666,\n",
    "638.94666,\n",
    "675.73833,\n",
    "657.94166,\n",
    "653.34666,\n",
    "633.66166,\n",
    "593.54833,\n",
    "612.85666,\n",
    "603.205,\n",
    "588.78,\n",
    "600.72,\n",
    "647.12249,\n",
    "646.88375,\n",
    "632.575,\n",
    "624.01,\n",
    "635.04625,\n",
    "622.46124,\n",
    "628.54499,\n",
    "622.20624,\n",
    "618.26374,\n",
    "595.87875,\n",
    "581.28125])\n",
    "print(s.sort_values(ascending=True,ignore_index=True))\n"
   ]
  },
  {
   "cell_type": "code",
   "execution_count": 174,
   "id": "895be7cd",
   "metadata": {},
   "outputs": [
    {
     "data": {
      "text/html": [
       "<div>\n",
       "<style scoped>\n",
       "    .dataframe tbody tr th:only-of-type {\n",
       "        vertical-align: middle;\n",
       "    }\n",
       "\n",
       "    .dataframe tbody tr th {\n",
       "        vertical-align: top;\n",
       "    }\n",
       "\n",
       "    .dataframe thead th {\n",
       "        text-align: right;\n",
       "    }\n",
       "</style>\n",
       "<table border=\"1\" class=\"dataframe\">\n",
       "  <thead>\n",
       "    <tr style=\"text-align: right;\">\n",
       "      <th></th>\n",
       "      <th>number</th>\n",
       "      <th>frequency</th>\n",
       "    </tr>\n",
       "  </thead>\n",
       "  <tbody>\n",
       "    <tr>\n",
       "      <th>0</th>\n",
       "      <td>118.67500</td>\n",
       "      <td>1</td>\n",
       "    </tr>\n",
       "    <tr>\n",
       "      <th>1</th>\n",
       "      <td>121.99166</td>\n",
       "      <td>1</td>\n",
       "    </tr>\n",
       "    <tr>\n",
       "      <th>2</th>\n",
       "      <td>124.75166</td>\n",
       "      <td>1</td>\n",
       "    </tr>\n",
       "    <tr>\n",
       "      <th>3</th>\n",
       "      <td>126.89650</td>\n",
       "      <td>1</td>\n",
       "    </tr>\n",
       "    <tr>\n",
       "      <th>4</th>\n",
       "      <td>128.01683</td>\n",
       "      <td>1</td>\n",
       "    </tr>\n",
       "    <tr>\n",
       "      <th>...</th>\n",
       "      <td>...</td>\n",
       "      <td>...</td>\n",
       "    </tr>\n",
       "    <tr>\n",
       "      <th>97</th>\n",
       "      <td>970.22516</td>\n",
       "      <td>1</td>\n",
       "    </tr>\n",
       "    <tr>\n",
       "      <th>98</th>\n",
       "      <td>975.62383</td>\n",
       "      <td>1</td>\n",
       "    </tr>\n",
       "    <tr>\n",
       "      <th>99</th>\n",
       "      <td>1049.67916</td>\n",
       "      <td>1</td>\n",
       "    </tr>\n",
       "    <tr>\n",
       "      <th>100</th>\n",
       "      <td>1144.36916</td>\n",
       "      <td>1</td>\n",
       "    </tr>\n",
       "    <tr>\n",
       "      <th>101</th>\n",
       "      <td>1157.49894</td>\n",
       "      <td>1</td>\n",
       "    </tr>\n",
       "  </tbody>\n",
       "</table>\n",
       "<p>102 rows × 2 columns</p>\n",
       "</div>"
      ],
      "text/plain": [
       "         number  frequency\n",
       "0     118.67500          1\n",
       "1     121.99166          1\n",
       "2     124.75166          1\n",
       "3     126.89650          1\n",
       "4     128.01683          1\n",
       "..          ...        ...\n",
       "97    970.22516          1\n",
       "98    975.62383          1\n",
       "99   1049.67916          1\n",
       "100  1144.36916          1\n",
       "101  1157.49894          1\n",
       "\n",
       "[102 rows x 2 columns]"
      ]
     },
     "execution_count": 174,
     "metadata": {},
     "output_type": "execute_result"
    }
   ],
   "source": [
    "# x - вариационный ряд  \n",
    "x=s.value_counts().reset_index()\n",
    "x.columns=[\"number\",\"frequency\"]\n",
    "x=x.sort_values(by=['number']).reset_index(drop=True)\n",
    "x"
   ]
  },
  {
   "cell_type": "code",
   "execution_count": 50,
   "id": "36b231f1",
   "metadata": {},
   "outputs": [
    {
     "data": {
      "text/html": [
       "<div>\n",
       "<style scoped>\n",
       "    .dataframe tbody tr th:only-of-type {\n",
       "        vertical-align: middle;\n",
       "    }\n",
       "\n",
       "    .dataframe tbody tr th {\n",
       "        vertical-align: top;\n",
       "    }\n",
       "\n",
       "    .dataframe thead th {\n",
       "        text-align: right;\n",
       "    }\n",
       "</style>\n",
       "<table border=\"1\" class=\"dataframe\">\n",
       "  <thead>\n",
       "    <tr style=\"text-align: right;\">\n",
       "      <th></th>\n",
       "      <th>int</th>\n",
       "      <th>freq</th>\n",
       "    </tr>\n",
       "  </thead>\n",
       "  <tbody>\n",
       "    <tr>\n",
       "      <th>0</th>\n",
       "      <td>(117.63499999999999, 248.528]</td>\n",
       "      <td>13</td>\n",
       "    </tr>\n",
       "    <tr>\n",
       "      <th>1</th>\n",
       "      <td>(248.528, 378.381]</td>\n",
       "      <td>2</td>\n",
       "    </tr>\n",
       "    <tr>\n",
       "      <th>2</th>\n",
       "      <td>(378.381, 508.234]</td>\n",
       "      <td>17</td>\n",
       "    </tr>\n",
       "    <tr>\n",
       "      <th>3</th>\n",
       "      <td>(508.234, 638.087]</td>\n",
       "      <td>32</td>\n",
       "    </tr>\n",
       "    <tr>\n",
       "      <th>4</th>\n",
       "      <td>(638.087, 767.94]</td>\n",
       "      <td>16</td>\n",
       "    </tr>\n",
       "    <tr>\n",
       "      <th>5</th>\n",
       "      <td>(767.94, 897.793]</td>\n",
       "      <td>15</td>\n",
       "    </tr>\n",
       "    <tr>\n",
       "      <th>6</th>\n",
       "      <td>(897.793, 1027.646]</td>\n",
       "      <td>4</td>\n",
       "    </tr>\n",
       "    <tr>\n",
       "      <th>7</th>\n",
       "      <td>(1027.646, 1157.499]</td>\n",
       "      <td>3</td>\n",
       "    </tr>\n",
       "  </tbody>\n",
       "</table>\n",
       "</div>"
      ],
      "text/plain": [
       "                             int  freq\n",
       "0  (117.63499999999999, 248.528]    13\n",
       "1             (248.528, 378.381]     2\n",
       "2             (378.381, 508.234]    17\n",
       "3             (508.234, 638.087]    32\n",
       "4              (638.087, 767.94]    16\n",
       "5              (767.94, 897.793]    15\n",
       "6            (897.793, 1027.646]     4\n",
       "7           (1027.646, 1157.499]     3"
      ]
     },
     "execution_count": 50,
     "metadata": {},
     "output_type": "execute_result"
    }
   ],
   "source": [
    "from math import ceil\n",
    "from math import floor\n",
    "from math import log2\n",
    "## объем выборки\n",
    "n=102\n",
    "## формула Стёрджеса  \n",
    "k = ceil(1+log2(n))\n",
    "## интервальный ряд \n",
    "s1=s.value_counts(normalize=False,bins=k,sort=False).to_frame().reset_index()\n",
    "s1.columns=[\"int\",\"freq\"]\n",
    "s1\n"
   ]
  },
  {
   "cell_type": "code",
   "execution_count": 51,
   "id": "03dfb0fb",
   "metadata": {},
   "outputs": [
    {
     "name": "stdout",
     "output_type": "stream",
     "text": [
      "[13, 2, 17, 32, 16, 15, 4, 3]\n",
      "[0.12745098039215685, 0.0196078431372549, 0.16666666666666666, 0.3137254901960784, 0.1568627450980392, 0.14705882352941177, 0.0392156862745098, 0.029411764705882353]\n",
      "129.8529925\n"
     ]
    }
   ],
   "source": [
    "## разница между макс и мин значениями выборки\n",
    "r=s.max()-s.min()\n",
    "## длина интервала \n",
    "h=r/k\n",
    "##абс частота интервалов \n",
    "c = [0]*k\n",
    "## отн частота интервалов \n",
    "c1 = [0]*k\n",
    "j = 0\n",
    "for i in s.value_counts(bins=8,sort=False):\n",
    "    c[j] = i\n",
    "    c1[j] = i/n\n",
    "    j += 1"
   ]
  },
  {
   "cell_type": "code",
   "execution_count": 175,
   "id": "b29ae63c",
   "metadata": {},
   "outputs": [
    {
     "name": "stdout",
     "output_type": "stream",
     "text": [
      "[118.675, 248.52799249999998, 378.380985, 508.23397750000004, 638.0869700000001, 767.9399625000001, 897.7929550000001, 1027.6459475000001, 1157.4989400000002]\n",
      "[183.60149624999997, 313.45448875, 443.30748125, 573.16047375, 703.0134662500001, 832.8664587500001, 962.7194512500001, 1092.5724437500003]\n"
     ]
    }
   ],
   "source": [
    "## начало интервалов\n",
    "start= [0]*(k+1)\n",
    "start[0]=s.min()\n",
    "for i in range(1,k+1):\n",
    "    start[i]=start[i-1]+h\n",
    "print(start)\n",
    "## среднее значение интервала\n",
    "mid_range=[0]*(k)\n",
    "for i in range(1,k+1):\n",
    "    mid_range[i-1]=start[i]-h/2\n",
    "print(mid_range)  "
   ]
  },
  {
   "cell_type": "code",
   "execution_count": 176,
   "id": "74eb25d4",
   "metadata": {
    "scrolled": true
   },
   "outputs": [
    {
     "name": "stdout",
     "output_type": "stream",
     "text": [
      "Полигон по средним интервальным значениям и абсолютным частотам\n"
     ]
    },
    {
     "data": {
      "image/png": "[encoded data removed]",
      "text/plain": [
       "<Figure size 432x288 with 1 Axes>"
      ]
     },
     "metadata": {
      "needs_background": "light"
     },
     "output_type": "display_data"
    }
   ],
   "source": [
    "import matplotlib.pyplot as plt\n",
    "plt.plot(mid_range,c)\n",
    "plt.xlabel('value')\n",
    "plt.ylabel('frequency')\n",
    "print('Полигон по средним интервальным значениям и абсолютным частотам')"
   ]
  },
  {
   "cell_type": "code",
   "execution_count": 186,
   "id": "81e47fd0",
   "metadata": {
    "scrolled": true
   },
   "outputs": [
    {
     "name": "stdout",
     "output_type": "stream",
     "text": [
      "Гистограмма по средним интервальным значениям и абсолютным частотам\n"
     ]
    },
    {
     "data": {
      "image/png": "[encoded data removed]",
      "text/plain": [
       "<Figure size 432x288 with 1 Axes>"
      ]
     },
     "metadata": {
      "needs_background": "light"
     },
     "output_type": "display_data"
    }
   ],
   "source": [
    "plt.hist(mid_range,weights=c,bins=k) \n",
    "print('Гистограмма по средним интервальным значениям и абсолютным частотам')"
   ]
  },
  {
   "cell_type": "code",
   "execution_count": 187,
   "id": "c09e5094",
   "metadata": {},
   "outputs": [
    {
     "name": "stdout",
     "output_type": "stream",
     "text": [
      "Эмпирическая функция по абсолютным частотам\n"
     ]
    },
    {
     "data": {
      "image/png": "[encoded data removed]",
      "text/plain": [
       "<Figure size 432x288 with 1 Axes>"
      ]
     },
     "metadata": {
      "needs_background": "light"
     },
     "output_type": "display_data"
    }
   ],
   "source": [
    "## накопленные абсолютные частоты \n",
    "m=[0]*(k)\n",
    "for i in range(0,k):\n",
    "    m[i]=(m[i-1]+c[i])\n",
    "bin_dt, bin_gr = np.histogram(start, bins=len(c))\n",
    "Y = m\n",
    "for i in range(len(Y)):\n",
    "    plt.plot([bin_gr[i], bin_gr[i+1]],[Y[i], Y[i]],color='green')\n",
    "print('Эмпирическая функция по абсолютным частотам')"
   ]
  },
  {
   "cell_type": "code",
   "execution_count": 188,
   "id": "f147ff6d",
   "metadata": {},
   "outputs": [
    {
     "name": "stdout",
     "output_type": "stream",
     "text": [
      "Полигон по средним интервальным значениям и относительным частотам\n"
     ]
    },
    {
     "data": {
      "image/png": "[encoded data removed]",
      "text/plain": [
       "<Figure size 432x288 with 1 Axes>"
      ]
     },
     "metadata": {
      "needs_background": "light"
     },
     "output_type": "display_data"
    }
   ],
   "source": [
    "import matplotlib.pyplot as plt\n",
    "plt.plot(mid_range,c1)\n",
    "plt.xlabel('value')\n",
    "plt.ylabel('frequency')\n",
    "print('Полигон по средним интервальным значениям и относительным частотам')"
   ]
  },
  {
   "cell_type": "code",
   "execution_count": 189,
   "id": "c827727b",
   "metadata": {},
   "outputs": [
    {
     "name": "stdout",
     "output_type": "stream",
     "text": [
      "Гистограмма по средним интервальным значениям и относительным частотам\n"
     ]
    },
    {
     "data": {
      "image/png": "[encoded data removed]",
      "text/plain": [
       "<Figure size 432x288 with 1 Axes>"
      ]
     },
     "metadata": {
      "needs_background": "light"
     },
     "output_type": "display_data"
    }
   ],
   "source": [
    "plt.hist(mid_range,weights=c1,bins=k) \n",
    "print('Гистограмма по средним интервальным значениям и относительным частотам')"
   ]
  },
  {
   "cell_type": "code",
   "execution_count": 190,
   "id": "6a434cb6",
   "metadata": {},
   "outputs": [
    {
     "name": "stdout",
     "output_type": "stream",
     "text": [
      "Эмпирическая функция по относительным частотам\n"
     ]
    },
    {
     "data": {
      "image/png": "[encoded data removed]",
      "text/plain": [
       "<Figure size 432x288 with 1 Axes>"
      ]
     },
     "metadata": {
      "needs_background": "light"
     },
     "output_type": "display_data"
    }
   ],
   "source": [
    "## накопленные отностельные частоты \n",
    "m1=[0]*(k)\n",
    "for i in range(0,k):\n",
    "    m[i]=(m[i-1]+c[i])\n",
    "    m1[i]=m[i]/n   \n",
    "bin_dt, bin_gr = np.histogram(start, bins=len(c))\n",
    "Y = m1\n",
    "for i in range(len(Y)):\n",
    "    plt.plot([bin_gr[i], bin_gr[i+1]],[Y[i], Y[i]],color='green')\n",
    "print('Эмпирическая функция по относительным частотам')"
   ]
  },
  {
   "cell_type": "code",
   "execution_count": 191,
   "id": "e5c5dd72",
   "metadata": {},
   "outputs": [
    {
     "data": {
      "text/html": [
       "<div>\n",
       "<style scoped>\n",
       "    .dataframe tbody tr th:only-of-type {\n",
       "        vertical-align: middle;\n",
       "    }\n",
       "\n",
       "    .dataframe tbody tr th {\n",
       "        vertical-align: top;\n",
       "    }\n",
       "\n",
       "    .dataframe thead th {\n",
       "        text-align: right;\n",
       "    }\n",
       "</style>\n",
       "<table border=\"1\" class=\"dataframe\">\n",
       "  <thead>\n",
       "    <tr style=\"text-align: right;\">\n",
       "      <th></th>\n",
       "      <th>(x(i-1);x(i)]</th>\n",
       "      <th>xср(i)</th>\n",
       "      <th>n(i)</th>\n",
       "      <th>p*(i)</th>\n",
       "      <th>sum(n(i))</th>\n",
       "      <th>sum(p*(i))]</th>\n",
       "    </tr>\n",
       "  </thead>\n",
       "  <tbody>\n",
       "    <tr>\n",
       "      <th>0</th>\n",
       "      <td>(117.63499999999999, 248.528]</td>\n",
       "      <td>183.601496</td>\n",
       "      <td>13</td>\n",
       "      <td>0.127451</td>\n",
       "      <td>115</td>\n",
       "      <td>1.127451</td>\n",
       "    </tr>\n",
       "    <tr>\n",
       "      <th>1</th>\n",
       "      <td>(248.528, 378.381]</td>\n",
       "      <td>313.454489</td>\n",
       "      <td>2</td>\n",
       "      <td>0.019608</td>\n",
       "      <td>117</td>\n",
       "      <td>1.147059</td>\n",
       "    </tr>\n",
       "    <tr>\n",
       "      <th>2</th>\n",
       "      <td>(378.381, 508.234]</td>\n",
       "      <td>443.307481</td>\n",
       "      <td>17</td>\n",
       "      <td>0.166667</td>\n",
       "      <td>134</td>\n",
       "      <td>1.313725</td>\n",
       "    </tr>\n",
       "    <tr>\n",
       "      <th>3</th>\n",
       "      <td>(508.234, 638.087]</td>\n",
       "      <td>573.160474</td>\n",
       "      <td>32</td>\n",
       "      <td>0.313725</td>\n",
       "      <td>166</td>\n",
       "      <td>1.627451</td>\n",
       "    </tr>\n",
       "    <tr>\n",
       "      <th>4</th>\n",
       "      <td>(638.087, 767.94]</td>\n",
       "      <td>703.013466</td>\n",
       "      <td>16</td>\n",
       "      <td>0.156863</td>\n",
       "      <td>182</td>\n",
       "      <td>1.784314</td>\n",
       "    </tr>\n",
       "    <tr>\n",
       "      <th>5</th>\n",
       "      <td>(767.94, 897.793]</td>\n",
       "      <td>832.866459</td>\n",
       "      <td>15</td>\n",
       "      <td>0.147059</td>\n",
       "      <td>197</td>\n",
       "      <td>1.931373</td>\n",
       "    </tr>\n",
       "    <tr>\n",
       "      <th>6</th>\n",
       "      <td>(897.793, 1027.646]</td>\n",
       "      <td>962.719451</td>\n",
       "      <td>4</td>\n",
       "      <td>0.039216</td>\n",
       "      <td>201</td>\n",
       "      <td>1.970588</td>\n",
       "    </tr>\n",
       "    <tr>\n",
       "      <th>7</th>\n",
       "      <td>(1027.646, 1157.499]</td>\n",
       "      <td>1092.572444</td>\n",
       "      <td>3</td>\n",
       "      <td>0.029412</td>\n",
       "      <td>204</td>\n",
       "      <td>2.0</td>\n",
       "    </tr>\n",
       "    <tr>\n",
       "      <th>sum</th>\n",
       "      <td>-</td>\n",
       "      <td>-</td>\n",
       "      <td>102</td>\n",
       "      <td>1.000000</td>\n",
       "      <td>-</td>\n",
       "      <td>-</td>\n",
       "    </tr>\n",
       "  </tbody>\n",
       "</table>\n",
       "</div>"
      ],
      "text/plain": [
       "                     (x(i-1);x(i)]       xср(i)  n(i)     p*(i) sum(n(i))  \\\n",
       "0    (117.63499999999999, 248.528]   183.601496    13  0.127451       115   \n",
       "1               (248.528, 378.381]   313.454489     2  0.019608       117   \n",
       "2               (378.381, 508.234]   443.307481    17  0.166667       134   \n",
       "3               (508.234, 638.087]   573.160474    32  0.313725       166   \n",
       "4                (638.087, 767.94]   703.013466    16  0.156863       182   \n",
       "5                (767.94, 897.793]   832.866459    15  0.147059       197   \n",
       "6              (897.793, 1027.646]   962.719451     4  0.039216       201   \n",
       "7             (1027.646, 1157.499]  1092.572444     3  0.029412       204   \n",
       "sum                              -            -   102  1.000000         -   \n",
       "\n",
       "    sum(p*(i))]  \n",
       "0      1.127451  \n",
       "1      1.147059  \n",
       "2      1.313725  \n",
       "3      1.627451  \n",
       "4      1.784314  \n",
       "5      1.931373  \n",
       "6      1.970588  \n",
       "7           2.0  \n",
       "sum           -  "
      ]
     },
     "execution_count": 191,
     "metadata": {},
     "output_type": "execute_result"
    }
   ],
   "source": [
    "t = pd.DataFrame(columns=[\"(x(i-1);x(i)]\",\"xср(i)\",\"n(i)\",\"p*(i)\",\"sum(n(i))\",\"sum(p*(i))]\"])\n",
    "t[\"(x(i-1);x(i)]\"]=s1[\"int\"]\n",
    "t[\"xср(i)\"]=mid_range\n",
    "t[\"n(i)\"]=s1[\"freq\"]\n",
    "t[\"p*(i)\"]=c1\n",
    "t[\"sum(n(i))\"]=m\n",
    "t[\"sum(p*(i))]\"]=m1\n",
    "t.loc[\"sum\"]=[\"-\",\"-\",np.sum(t[\"n(i)\"]),np.sum(t[\"p*(i)\"]),\"-\",\"-\"]\n",
    "t"
   ]
  },
  {
   "cell_type": "code",
   "execution_count": 192,
   "id": "934a64bd",
   "metadata": {},
   "outputs": [
    {
     "data": {
      "text/html": [
       "<div>\n",
       "<style scoped>\n",
       "    .dataframe tbody tr th:only-of-type {\n",
       "        vertical-align: middle;\n",
       "    }\n",
       "\n",
       "    .dataframe tbody tr th {\n",
       "        vertical-align: top;\n",
       "    }\n",
       "\n",
       "    .dataframe thead th {\n",
       "        text-align: right;\n",
       "    }\n",
       "</style>\n",
       "<table border=\"1\" class=\"dataframe\">\n",
       "  <thead>\n",
       "    <tr style=\"text-align: right;\">\n",
       "      <th></th>\n",
       "      <th>x(i)</th>\n",
       "      <th>n(i)</th>\n",
       "      <th>u(i)</th>\n",
       "      <th>n(i)u(i)</th>\n",
       "      <th>n(i)u^2(i)</th>\n",
       "      <th>n(i)u^3(i)</th>\n",
       "      <th>n(i)u^4(i)</th>\n",
       "      <th>n(i)(u(i)+1)^4</th>\n",
       "    </tr>\n",
       "  </thead>\n",
       "  <tbody>\n",
       "    <tr>\n",
       "      <th>0</th>\n",
       "      <td>183.601496</td>\n",
       "      <td>13</td>\n",
       "      <td>-3.0</td>\n",
       "      <td>-39.0</td>\n",
       "      <td>117.0</td>\n",
       "      <td>-351.0</td>\n",
       "      <td>1053.0</td>\n",
       "      <td>208.0</td>\n",
       "    </tr>\n",
       "    <tr>\n",
       "      <th>1</th>\n",
       "      <td>313.454489</td>\n",
       "      <td>2</td>\n",
       "      <td>-2.0</td>\n",
       "      <td>-4.0</td>\n",
       "      <td>8.0</td>\n",
       "      <td>-16.0</td>\n",
       "      <td>32.0</td>\n",
       "      <td>2.0</td>\n",
       "    </tr>\n",
       "    <tr>\n",
       "      <th>2</th>\n",
       "      <td>443.307481</td>\n",
       "      <td>17</td>\n",
       "      <td>-1.0</td>\n",
       "      <td>-17.0</td>\n",
       "      <td>17.0</td>\n",
       "      <td>-17.0</td>\n",
       "      <td>17.0</td>\n",
       "      <td>0.0</td>\n",
       "    </tr>\n",
       "    <tr>\n",
       "      <th>3</th>\n",
       "      <td>573.160474</td>\n",
       "      <td>32</td>\n",
       "      <td>0.0</td>\n",
       "      <td>0.0</td>\n",
       "      <td>0.0</td>\n",
       "      <td>0.0</td>\n",
       "      <td>0.0</td>\n",
       "      <td>32.0</td>\n",
       "    </tr>\n",
       "    <tr>\n",
       "      <th>4</th>\n",
       "      <td>703.013466</td>\n",
       "      <td>16</td>\n",
       "      <td>1.0</td>\n",
       "      <td>16.0</td>\n",
       "      <td>16.0</td>\n",
       "      <td>16.0</td>\n",
       "      <td>16.0</td>\n",
       "      <td>256.0</td>\n",
       "    </tr>\n",
       "    <tr>\n",
       "      <th>5</th>\n",
       "      <td>832.866459</td>\n",
       "      <td>15</td>\n",
       "      <td>2.0</td>\n",
       "      <td>30.0</td>\n",
       "      <td>60.0</td>\n",
       "      <td>120.0</td>\n",
       "      <td>240.0</td>\n",
       "      <td>1215.0</td>\n",
       "    </tr>\n",
       "    <tr>\n",
       "      <th>6</th>\n",
       "      <td>962.719451</td>\n",
       "      <td>4</td>\n",
       "      <td>3.0</td>\n",
       "      <td>12.0</td>\n",
       "      <td>36.0</td>\n",
       "      <td>108.0</td>\n",
       "      <td>324.0</td>\n",
       "      <td>1024.0</td>\n",
       "    </tr>\n",
       "    <tr>\n",
       "      <th>7</th>\n",
       "      <td>1092.572444</td>\n",
       "      <td>3</td>\n",
       "      <td>4.0</td>\n",
       "      <td>12.0</td>\n",
       "      <td>48.0</td>\n",
       "      <td>192.0</td>\n",
       "      <td>768.0</td>\n",
       "      <td>1875.0</td>\n",
       "    </tr>\n",
       "    <tr>\n",
       "      <th>sum</th>\n",
       "      <td>-</td>\n",
       "      <td>102</td>\n",
       "      <td>-</td>\n",
       "      <td>10.0</td>\n",
       "      <td>302.0</td>\n",
       "      <td>52.0</td>\n",
       "      <td>2450.0</td>\n",
       "      <td>4612.0</td>\n",
       "    </tr>\n",
       "  </tbody>\n",
       "</table>\n",
       "</div>"
      ],
      "text/plain": [
       "            x(i)  n(i) u(i)  n(i)u(i)  n(i)u^2(i)  n(i)u^3(i)  n(i)u^4(i)  \\\n",
       "0     183.601496    13 -3.0     -39.0       117.0      -351.0      1053.0   \n",
       "1     313.454489     2 -2.0      -4.0         8.0       -16.0        32.0   \n",
       "2     443.307481    17 -1.0     -17.0        17.0       -17.0        17.0   \n",
       "3     573.160474    32  0.0       0.0         0.0         0.0         0.0   \n",
       "4     703.013466    16  1.0      16.0        16.0        16.0        16.0   \n",
       "5     832.866459    15  2.0      30.0        60.0       120.0       240.0   \n",
       "6     962.719451     4  3.0      12.0        36.0       108.0       324.0   \n",
       "7    1092.572444     3  4.0      12.0        48.0       192.0       768.0   \n",
       "sum            -   102    -      10.0       302.0        52.0      2450.0   \n",
       "\n",
       "     n(i)(u(i)+1)^4  \n",
       "0             208.0  \n",
       "1               2.0  \n",
       "2               0.0  \n",
       "3              32.0  \n",
       "4             256.0  \n",
       "5            1215.0  \n",
       "6            1024.0  \n",
       "7            1875.0  \n",
       "sum          4612.0  "
      ]
     },
     "execution_count": 192,
     "metadata": {},
     "output_type": "execute_result"
    }
   ],
   "source": [
    "## номер ложного нуля\n",
    "C=((len(c)-1)/2)\n",
    "C=math.floor(C) if s1[\"freq\"][math.floor(C)] > s1[\"freq\"][math.ceil(C)] else math.ceil(C)\n",
    "U =[]\n",
    "t2 = pd.DataFrame(columns=[\"x(i)\",\"n(i)\",\"u(i)\",\"n(i)u(i)\",\"n(i)u^2(i)\",\"n(i)u^3(i)\",\"n(i)u^4(i)\",\"n(i)(u(i)+1)^4\"])\n",
    "for i in range (len(c)):\n",
    "    U.append((t[\"xср(i)\"][i]-t[\"xср(i)\"][C])/h)\n",
    "n_u_1 = []\n",
    "n_u_2 = []\n",
    "n_u_3 = []\n",
    "n_u_4 = []\n",
    "n_u_plus = []\n",
    "for i in range(len(U)):\n",
    "    n_u_1.append(t[\"n(i)\"][i]*U[i])\n",
    "    n_u_2.append(t[\"n(i)\"][i]*U[i]**2)\n",
    "    n_u_3.append(t[\"n(i)\"][i]*U[i]**3)\n",
    "    n_u_4.append(t[\"n(i)\"][i]*U[i]**4)\n",
    "    n_u_plus.append(round(t[\"n(i)\"][i]*(U[i]+1)**4,1))\n",
    "t2[\"x(i)\"]=t[\"xср(i)\"][:len(t)-1]                     \n",
    "t2[\"n(i)\"]=t[\"n(i)\"]    \n",
    "t2[\"u(i)\"]=U \n",
    "t2[\"n(i)u(i)\"]=n_u_1 \n",
    "t2[\"n(i)u^2(i)\"]=n_u_2 \n",
    "t2[\"n(i)u^3(i)\"]=n_u_3  \n",
    "t2[\"n(i)u^4(i)\"]=n_u_4  \n",
    "t2[\"n(i)(u(i)+1)^4\"]=n_u_plus \n",
    "t2.loc[\"sum\"]=[\"-\",np.sum(t2[\"n(i)\"]),\"-\",np.sum(t2[\"n(i)u(i)\"]),np.sum(t2[\"n(i)u^2(i)\"]),np.sum(t2[\"n(i)u^3(i)\"]),np.sum(t2[\"n(i)u^4(i)\"]),np.sum(t2[\"n(i)(u(i)+1)^4\"])]\n",
    "t2\n",
    " "
   ]
  },
  {
   "cell_type": "code",
   "execution_count": 153,
   "id": "c7287cbc",
   "metadata": {},
   "outputs": [
    {
     "data": {
      "text/html": [
       "<div>\n",
       "<style scoped>\n",
       "    .dataframe tbody tr th:only-of-type {\n",
       "        vertical-align: middle;\n",
       "    }\n",
       "\n",
       "    .dataframe tbody tr th {\n",
       "        vertical-align: top;\n",
       "    }\n",
       "\n",
       "    .dataframe thead th {\n",
       "        text-align: right;\n",
       "    }\n",
       "</style>\n",
       "<table border=\"1\" class=\"dataframe\">\n",
       "  <thead>\n",
       "    <tr style=\"text-align: right;\">\n",
       "      <th></th>\n",
       "      <th>v*(i)</th>\n",
       "      <th>и*(i)</th>\n",
       "    </tr>\n",
       "  </thead>\n",
       "  <tbody>\n",
       "    <tr>\n",
       "      <th>1</th>\n",
       "      <td>0.098039</td>\n",
       "      <td>0.000000e+00</td>\n",
       "    </tr>\n",
       "    <tr>\n",
       "      <th>2</th>\n",
       "      <td>2.960784</td>\n",
       "      <td>4.976208e+04</td>\n",
       "    </tr>\n",
       "    <tr>\n",
       "      <th>3</th>\n",
       "      <td>0.509804</td>\n",
       "      <td>-7.863357e+05</td>\n",
       "    </tr>\n",
       "    <tr>\n",
       "      <th>4</th>\n",
       "      <td>24.019608</td>\n",
       "      <td>7.267524e+09</td>\n",
       "    </tr>\n",
       "  </tbody>\n",
       "</table>\n",
       "</div>"
      ],
      "text/plain": [
       "       v*(i)         и*(i)\n",
       "1   0.098039  0.000000e+00\n",
       "2   2.960784  4.976208e+04\n",
       "3   0.509804 -7.863357e+05\n",
       "4  24.019608  7.267524e+09"
      ]
     },
     "execution_count": 153,
     "metadata": {},
     "output_type": "execute_result"
    }
   ],
   "source": [
    "V = []\n",
    "r = 4\n",
    "for i in range(r):\n",
    "    V.append(1/n*t2.loc[\"sum\"][i+3])\n",
    "V1= np.zeros(4)\n",
    "V1[1]=(V[1]-V[0]**2)*h**2\n",
    "V1[2]=(V[2]-3*V[1]*V[0]+2*V[0]**3)*h**3\n",
    "V1[3]=(V[3]-4*V[2]*V[0]+6*V[1]*V[0]-3*V[0]**4)*h**4\n",
    "t3=pd.DataFrame(columns=[\"v*(i)\",\"и*(i)\"], index=range(1,r+1))\n",
    "t3[\"v*(i)\"]=V\n",
    "t3[\"и*(i)\"]=V1\n",
    "t3\n"
   ]
  },
  {
   "cell_type": "code",
   "execution_count": 168,
   "id": "43102e39",
   "metadata": {},
   "outputs": [
    {
     "name": "stdout",
     "output_type": "stream",
     "text": [
      "591.2222868627451\n",
      "585.8911592892158\n"
     ]
    }
   ],
   "source": [
    "\n",
    "## среднее выборочное \n",
    "xB= np.sum(s)/n\n",
    "## диспересия \n",
    "d=0\n",
    "for i in range (n):\n",
    "    d=d+(s[i]-xB)**2\n",
    "d=d/n\n",
    "print(xB)\n",
    "## диспересия по условным \n",
    "D_=t3[\"и*(i)\"][2]\n",
    "## среднее выборочное  по условным \n",
    "xB_=h*t3[\"v*(i)\"][1]+t[\"xср(i)\"][C]\n",
    "print(xB_)"
   ]
  },
  {
   "cell_type": "code",
   "execution_count": 157,
   "id": "41df7acf",
   "metadata": {},
   "outputs": [
    {
     "data": {
      "text/plain": [
       "591.2222868627451"
      ]
     },
     "execution_count": 157,
     "metadata": {},
     "output_type": "execute_result"
    }
   ],
   "source": []
  },
  {
   "cell_type": "code",
   "execution_count": null,
   "id": "bb3574e5",
   "metadata": {},
   "outputs": [],
   "source": []
  }
 ],
 "metadata": {
  "kernelspec": {
   "display_name": "Python 3 (ipykernel)",
   "language": "python",
   "name": "python3"
  },
  "language_info": {
   "codemirror_mode": {
    "name": "ipython",
    "version": 3
   },
   "file_extension": ".py",
   "mimetype": "text/x-python",
   "name": "python",
   "nbconvert_exporter": "python",
   "pygments_lexer": "ipython3",
   "version": "3.10.1"
  }
 },
 "nbformat": 4,
 "nbformat_minor": 5
}
